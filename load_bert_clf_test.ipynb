{
 "cells": [
  {
   "cell_type": "code",
   "execution_count": 2,
   "metadata": {},
   "outputs": [],
   "source": [
    "from models.bert import MLXBertForSequenceClassification\n",
    "from transformers import AutoModelForSequenceClassification, AutoTokenizer\n",
    "from mlx.utils import tree_unflatten\n",
    "import mlx.core as mx\n",
    "import mlx.nn as nn\n",
    "import numpy as np"
   ]
  },
  {
   "cell_type": "markdown",
   "metadata": {},
   "source": [
    "## Load transformers Bert Model"
   ]
  },
  {
   "cell_type": "code",
   "execution_count": 3,
   "metadata": {},
   "outputs": [
    {
     "data": {
      "application/vnd.jupyter.widget-view+json": {
       "model_id": "34c4e5d465d24883b5caf470ce4dc20f",
       "version_major": 2,
       "version_minor": 0
      },
      "text/plain": [
       "config.json:   0%|          | 0.00/953 [00:00<?, ?B/s]"
      ]
     },
     "metadata": {},
     "output_type": "display_data"
    },
    {
     "data": {
      "application/vnd.jupyter.widget-view+json": {
       "model_id": "96f79d8420164fa1b0275f7d4675a27f",
       "version_major": 2,
       "version_minor": 0
      },
      "text/plain": [
       "pytorch_model.bin:   0%|          | 0.00/669M [00:00<?, ?B/s]"
      ]
     },
     "metadata": {},
     "output_type": "display_data"
    }
   ],
   "source": [
    "pretrained_model_name = \"nlptown/bert-base-multilingual-uncased-sentiment\"\n",
    "og_model = AutoModelForSequenceClassification.from_pretrained(pretrained_model_name) \n",
    "og_model.eval()\n",
    "\n",
    "config = og_model.config\n",
    "og_state = og_model.state_dict()"
   ]
  },
  {
   "cell_type": "code",
   "execution_count": 4,
   "metadata": {},
   "outputs": [
    {
     "name": "stdout",
     "output_type": "stream",
     "text": [
      "dict_keys(['bert.embeddings.word_embeddings.weight', 'bert.embeddings.position_embeddings.weight', 'bert.embeddings.token_type_embeddings.weight', 'bert.embeddings.LayerNorm.weight', 'bert.embeddings.LayerNorm.bias', 'bert.encoder.layer.0.attention.self.query.weight', 'bert.encoder.layer.0.attention.self.query.bias', 'bert.encoder.layer.0.attention.self.key.weight', 'bert.encoder.layer.0.attention.self.key.bias', 'bert.encoder.layer.0.attention.self.value.weight', 'bert.encoder.layer.0.attention.self.value.bias', 'bert.encoder.layer.0.attention.output.dense.weight', 'bert.encoder.layer.0.attention.output.dense.bias', 'bert.encoder.layer.0.attention.output.LayerNorm.weight', 'bert.encoder.layer.0.attention.output.LayerNorm.bias', 'bert.encoder.layer.0.intermediate.dense.weight', 'bert.encoder.layer.0.intermediate.dense.bias', 'bert.encoder.layer.0.output.dense.weight', 'bert.encoder.layer.0.output.dense.bias', 'bert.encoder.layer.0.output.LayerNorm.weight', 'bert.encoder.layer.0.output.LayerNorm.bias', 'bert.encoder.layer.1.attention.self.query.weight', 'bert.encoder.layer.1.attention.self.query.bias', 'bert.encoder.layer.1.attention.self.key.weight', 'bert.encoder.layer.1.attention.self.key.bias', 'bert.encoder.layer.1.attention.self.value.weight', 'bert.encoder.layer.1.attention.self.value.bias', 'bert.encoder.layer.1.attention.output.dense.weight', 'bert.encoder.layer.1.attention.output.dense.bias', 'bert.encoder.layer.1.attention.output.LayerNorm.weight', 'bert.encoder.layer.1.attention.output.LayerNorm.bias', 'bert.encoder.layer.1.intermediate.dense.weight', 'bert.encoder.layer.1.intermediate.dense.bias', 'bert.encoder.layer.1.output.dense.weight', 'bert.encoder.layer.1.output.dense.bias', 'bert.encoder.layer.1.output.LayerNorm.weight', 'bert.encoder.layer.1.output.LayerNorm.bias', 'bert.encoder.layer.2.attention.self.query.weight', 'bert.encoder.layer.2.attention.self.query.bias', 'bert.encoder.layer.2.attention.self.key.weight', 'bert.encoder.layer.2.attention.self.key.bias', 'bert.encoder.layer.2.attention.self.value.weight', 'bert.encoder.layer.2.attention.self.value.bias', 'bert.encoder.layer.2.attention.output.dense.weight', 'bert.encoder.layer.2.attention.output.dense.bias', 'bert.encoder.layer.2.attention.output.LayerNorm.weight', 'bert.encoder.layer.2.attention.output.LayerNorm.bias', 'bert.encoder.layer.2.intermediate.dense.weight', 'bert.encoder.layer.2.intermediate.dense.bias', 'bert.encoder.layer.2.output.dense.weight', 'bert.encoder.layer.2.output.dense.bias', 'bert.encoder.layer.2.output.LayerNorm.weight', 'bert.encoder.layer.2.output.LayerNorm.bias', 'bert.encoder.layer.3.attention.self.query.weight', 'bert.encoder.layer.3.attention.self.query.bias', 'bert.encoder.layer.3.attention.self.key.weight', 'bert.encoder.layer.3.attention.self.key.bias', 'bert.encoder.layer.3.attention.self.value.weight', 'bert.encoder.layer.3.attention.self.value.bias', 'bert.encoder.layer.3.attention.output.dense.weight', 'bert.encoder.layer.3.attention.output.dense.bias', 'bert.encoder.layer.3.attention.output.LayerNorm.weight', 'bert.encoder.layer.3.attention.output.LayerNorm.bias', 'bert.encoder.layer.3.intermediate.dense.weight', 'bert.encoder.layer.3.intermediate.dense.bias', 'bert.encoder.layer.3.output.dense.weight', 'bert.encoder.layer.3.output.dense.bias', 'bert.encoder.layer.3.output.LayerNorm.weight', 'bert.encoder.layer.3.output.LayerNorm.bias', 'bert.encoder.layer.4.attention.self.query.weight', 'bert.encoder.layer.4.attention.self.query.bias', 'bert.encoder.layer.4.attention.self.key.weight', 'bert.encoder.layer.4.attention.self.key.bias', 'bert.encoder.layer.4.attention.self.value.weight', 'bert.encoder.layer.4.attention.self.value.bias', 'bert.encoder.layer.4.attention.output.dense.weight', 'bert.encoder.layer.4.attention.output.dense.bias', 'bert.encoder.layer.4.attention.output.LayerNorm.weight', 'bert.encoder.layer.4.attention.output.LayerNorm.bias', 'bert.encoder.layer.4.intermediate.dense.weight', 'bert.encoder.layer.4.intermediate.dense.bias', 'bert.encoder.layer.4.output.dense.weight', 'bert.encoder.layer.4.output.dense.bias', 'bert.encoder.layer.4.output.LayerNorm.weight', 'bert.encoder.layer.4.output.LayerNorm.bias', 'bert.encoder.layer.5.attention.self.query.weight', 'bert.encoder.layer.5.attention.self.query.bias', 'bert.encoder.layer.5.attention.self.key.weight', 'bert.encoder.layer.5.attention.self.key.bias', 'bert.encoder.layer.5.attention.self.value.weight', 'bert.encoder.layer.5.attention.self.value.bias', 'bert.encoder.layer.5.attention.output.dense.weight', 'bert.encoder.layer.5.attention.output.dense.bias', 'bert.encoder.layer.5.attention.output.LayerNorm.weight', 'bert.encoder.layer.5.attention.output.LayerNorm.bias', 'bert.encoder.layer.5.intermediate.dense.weight', 'bert.encoder.layer.5.intermediate.dense.bias', 'bert.encoder.layer.5.output.dense.weight', 'bert.encoder.layer.5.output.dense.bias', 'bert.encoder.layer.5.output.LayerNorm.weight', 'bert.encoder.layer.5.output.LayerNorm.bias', 'bert.encoder.layer.6.attention.self.query.weight', 'bert.encoder.layer.6.attention.self.query.bias', 'bert.encoder.layer.6.attention.self.key.weight', 'bert.encoder.layer.6.attention.self.key.bias', 'bert.encoder.layer.6.attention.self.value.weight', 'bert.encoder.layer.6.attention.self.value.bias', 'bert.encoder.layer.6.attention.output.dense.weight', 'bert.encoder.layer.6.attention.output.dense.bias', 'bert.encoder.layer.6.attention.output.LayerNorm.weight', 'bert.encoder.layer.6.attention.output.LayerNorm.bias', 'bert.encoder.layer.6.intermediate.dense.weight', 'bert.encoder.layer.6.intermediate.dense.bias', 'bert.encoder.layer.6.output.dense.weight', 'bert.encoder.layer.6.output.dense.bias', 'bert.encoder.layer.6.output.LayerNorm.weight', 'bert.encoder.layer.6.output.LayerNorm.bias', 'bert.encoder.layer.7.attention.self.query.weight', 'bert.encoder.layer.7.attention.self.query.bias', 'bert.encoder.layer.7.attention.self.key.weight', 'bert.encoder.layer.7.attention.self.key.bias', 'bert.encoder.layer.7.attention.self.value.weight', 'bert.encoder.layer.7.attention.self.value.bias', 'bert.encoder.layer.7.attention.output.dense.weight', 'bert.encoder.layer.7.attention.output.dense.bias', 'bert.encoder.layer.7.attention.output.LayerNorm.weight', 'bert.encoder.layer.7.attention.output.LayerNorm.bias', 'bert.encoder.layer.7.intermediate.dense.weight', 'bert.encoder.layer.7.intermediate.dense.bias', 'bert.encoder.layer.7.output.dense.weight', 'bert.encoder.layer.7.output.dense.bias', 'bert.encoder.layer.7.output.LayerNorm.weight', 'bert.encoder.layer.7.output.LayerNorm.bias', 'bert.encoder.layer.8.attention.self.query.weight', 'bert.encoder.layer.8.attention.self.query.bias', 'bert.encoder.layer.8.attention.self.key.weight', 'bert.encoder.layer.8.attention.self.key.bias', 'bert.encoder.layer.8.attention.self.value.weight', 'bert.encoder.layer.8.attention.self.value.bias', 'bert.encoder.layer.8.attention.output.dense.weight', 'bert.encoder.layer.8.attention.output.dense.bias', 'bert.encoder.layer.8.attention.output.LayerNorm.weight', 'bert.encoder.layer.8.attention.output.LayerNorm.bias', 'bert.encoder.layer.8.intermediate.dense.weight', 'bert.encoder.layer.8.intermediate.dense.bias', 'bert.encoder.layer.8.output.dense.weight', 'bert.encoder.layer.8.output.dense.bias', 'bert.encoder.layer.8.output.LayerNorm.weight', 'bert.encoder.layer.8.output.LayerNorm.bias', 'bert.encoder.layer.9.attention.self.query.weight', 'bert.encoder.layer.9.attention.self.query.bias', 'bert.encoder.layer.9.attention.self.key.weight', 'bert.encoder.layer.9.attention.self.key.bias', 'bert.encoder.layer.9.attention.self.value.weight', 'bert.encoder.layer.9.attention.self.value.bias', 'bert.encoder.layer.9.attention.output.dense.weight', 'bert.encoder.layer.9.attention.output.dense.bias', 'bert.encoder.layer.9.attention.output.LayerNorm.weight', 'bert.encoder.layer.9.attention.output.LayerNorm.bias', 'bert.encoder.layer.9.intermediate.dense.weight', 'bert.encoder.layer.9.intermediate.dense.bias', 'bert.encoder.layer.9.output.dense.weight', 'bert.encoder.layer.9.output.dense.bias', 'bert.encoder.layer.9.output.LayerNorm.weight', 'bert.encoder.layer.9.output.LayerNorm.bias', 'bert.encoder.layer.10.attention.self.query.weight', 'bert.encoder.layer.10.attention.self.query.bias', 'bert.encoder.layer.10.attention.self.key.weight', 'bert.encoder.layer.10.attention.self.key.bias', 'bert.encoder.layer.10.attention.self.value.weight', 'bert.encoder.layer.10.attention.self.value.bias', 'bert.encoder.layer.10.attention.output.dense.weight', 'bert.encoder.layer.10.attention.output.dense.bias', 'bert.encoder.layer.10.attention.output.LayerNorm.weight', 'bert.encoder.layer.10.attention.output.LayerNorm.bias', 'bert.encoder.layer.10.intermediate.dense.weight', 'bert.encoder.layer.10.intermediate.dense.bias', 'bert.encoder.layer.10.output.dense.weight', 'bert.encoder.layer.10.output.dense.bias', 'bert.encoder.layer.10.output.LayerNorm.weight', 'bert.encoder.layer.10.output.LayerNorm.bias', 'bert.encoder.layer.11.attention.self.query.weight', 'bert.encoder.layer.11.attention.self.query.bias', 'bert.encoder.layer.11.attention.self.key.weight', 'bert.encoder.layer.11.attention.self.key.bias', 'bert.encoder.layer.11.attention.self.value.weight', 'bert.encoder.layer.11.attention.self.value.bias', 'bert.encoder.layer.11.attention.output.dense.weight', 'bert.encoder.layer.11.attention.output.dense.bias', 'bert.encoder.layer.11.attention.output.LayerNorm.weight', 'bert.encoder.layer.11.attention.output.LayerNorm.bias', 'bert.encoder.layer.11.intermediate.dense.weight', 'bert.encoder.layer.11.intermediate.dense.bias', 'bert.encoder.layer.11.output.dense.weight', 'bert.encoder.layer.11.output.dense.bias', 'bert.encoder.layer.11.output.LayerNorm.weight', 'bert.encoder.layer.11.output.LayerNorm.bias', 'bert.pooler.dense.weight', 'bert.pooler.dense.bias', 'classifier.weight', 'classifier.bias'])\n"
     ]
    }
   ],
   "source": [
    "converted_weights = {k: mx.array(v.numpy()) for k, v in og_state.items() if k is not None}\n",
    "print(converted_weights.keys())\n",
    "\n",
    "np.savez(\"converted_bert_clf.npz\", **converted_weights)"
   ]
  },
  {
   "cell_type": "code",
   "execution_count": 5,
   "metadata": {},
   "outputs": [
    {
     "data": {
      "application/vnd.jupyter.widget-view+json": {
       "model_id": "b7595f2b163b4b31916f542d163560f8",
       "version_major": 2,
       "version_minor": 0
      },
      "text/plain": [
       "tokenizer_config.json:   0%|          | 0.00/39.0 [00:00<?, ?B/s]"
      ]
     },
     "metadata": {},
     "output_type": "display_data"
    },
    {
     "data": {
      "application/vnd.jupyter.widget-view+json": {
       "model_id": "13ee0b748e344cc494058d76084d3f4f",
       "version_major": 2,
       "version_minor": 0
      },
      "text/plain": [
       "vocab.txt:   0%|          | 0.00/872k [00:00<?, ?B/s]"
      ]
     },
     "metadata": {},
     "output_type": "display_data"
    },
    {
     "data": {
      "application/vnd.jupyter.widget-view+json": {
       "model_id": "247b9f96a6724aa38a52826fdd4c0fcc",
       "version_major": 2,
       "version_minor": 0
      },
      "text/plain": [
       "special_tokens_map.json:   0%|          | 0.00/112 [00:00<?, ?B/s]"
      ]
     },
     "metadata": {},
     "output_type": "display_data"
    }
   ],
   "source": [
    "tokenizer = AutoTokenizer.from_pretrained(pretrained_model_name) "
   ]
  },
  {
   "cell_type": "code",
   "execution_count": 6,
   "metadata": {},
   "outputs": [
    {
     "name": "stdout",
     "output_type": "stream",
     "text": [
      "{'input_ids': tensor([[  101, 29155,   102]]), 'token_type_ids': tensor([[0, 0, 0]]), 'attention_mask': tensor([[1, 1, 1]])}\n"
     ]
    }
   ],
   "source": [
    "## ORIGINAL OUTPUT\n",
    "encoded = tokenizer(\"hello\", return_tensors=\"pt\")\n",
    "print(encoded)"
   ]
  },
  {
   "cell_type": "code",
   "execution_count": 11,
   "metadata": {},
   "outputs": [],
   "source": [
    "## Inference Test\n",
    "og_model_outputs = og_model(\n",
    "\tencoded[\"input_ids\"],\n",
    "\tattention_mask = encoded[\"attention_mask\"],\n",
    "\ttoken_type_ids = encoded[\"token_type_ids\"],\n",
    "\treturn_dict = False\n",
    ")"
   ]
  },
  {
   "cell_type": "code",
   "execution_count": 12,
   "metadata": {},
   "outputs": [
    {
     "name": "stdout",
     "output_type": "stream",
     "text": [
      "(tensor([[-0.4207, -1.1027, -0.2918,  0.1923,  1.3280]],\n",
      "       grad_fn=<AddmmBackward0>),)\n"
     ]
    }
   ],
   "source": [
    "print(og_model_outputs)"
   ]
  },
  {
   "cell_type": "markdown",
   "metadata": {},
   "source": [
    "## Load MLX Model"
   ]
  },
  {
   "cell_type": "code",
   "execution_count": 13,
   "metadata": {},
   "outputs": [
    {
     "name": "stdout",
     "output_type": "stream",
     "text": [
      "MLXBertForSequenceClassification(\n",
      "  (bert): MLXBertModel(\n",
      "    (embeddings): BertEmbeddings(\n",
      "      (word_embeddings): Embedding(105879, 768)\n",
      "      (position_embeddings): Embedding(512, 768)\n",
      "      (token_type_embeddings): Embedding(2, 768)\n",
      "      (LayerNorm): LayerNorm(768, eps=1e-12, affine=True)\n",
      "      (dropout): Dropout(p=0.09999999999999998)\n",
      "    )\n",
      "    (encoder): BertEncoder(\n",
      "      (layer.0): BertLayer(\n",
      "        (attention): BertAttention(\n",
      "          (self): BertSelfAttention(\n",
      "            (query): Linear(input_dims=768, output_dims=768, bias=True)\n",
      "            (key): Linear(input_dims=768, output_dims=768, bias=True)\n",
      "            (value): Linear(input_dims=768, output_dims=768, bias=True)\n",
      "            (dropout): Dropout(p=0.09999999999999998)\n",
      "          )\n",
      "          (output): BertSelfOutput(\n",
      "            (dense): Linear(input_dims=768, output_dims=768, bias=True)\n",
      "            (LayerNorm): LayerNorm(768, eps=1e-12, affine=True)\n",
      "            (dropout): Dropout(p=0.09999999999999998)\n",
      "          )\n",
      "        )\n",
      "        (intermediate): BertIntermediate(\n",
      "          (dense): Linear(input_dims=768, output_dims=3072, bias=True)\n",
      "          (intermediate_act_fn): GELU()\n",
      "        )\n",
      "        (output): BertOutput(\n",
      "          (dense): Linear(input_dims=3072, output_dims=768, bias=True)\n",
      "          (LayerNorm): LayerNorm(768, eps=1e-12, affine=True)\n",
      "          (dropout): Dropout(p=0.09999999999999998)\n",
      "        )\n",
      "      )\n",
      "      (layer.1): BertLayer(\n",
      "        (attention): BertAttention(\n",
      "          (self): BertSelfAttention(\n",
      "            (query): Linear(input_dims=768, output_dims=768, bias=True)\n",
      "            (key): Linear(input_dims=768, output_dims=768, bias=True)\n",
      "            (value): Linear(input_dims=768, output_dims=768, bias=True)\n",
      "            (dropout): Dropout(p=0.09999999999999998)\n",
      "          )\n",
      "          (output): BertSelfOutput(\n",
      "            (dense): Linear(input_dims=768, output_dims=768, bias=True)\n",
      "            (LayerNorm): LayerNorm(768, eps=1e-12, affine=True)\n",
      "            (dropout): Dropout(p=0.09999999999999998)\n",
      "          )\n",
      "        )\n",
      "        (intermediate): BertIntermediate(\n",
      "          (dense): Linear(input_dims=768, output_dims=3072, bias=True)\n",
      "          (intermediate_act_fn): GELU()\n",
      "        )\n",
      "        (output): BertOutput(\n",
      "          (dense): Linear(input_dims=3072, output_dims=768, bias=True)\n",
      "          (LayerNorm): LayerNorm(768, eps=1e-12, affine=True)\n",
      "          (dropout): Dropout(p=0.09999999999999998)\n",
      "        )\n",
      "      )\n",
      "      (layer.2): BertLayer(\n",
      "        (attention): BertAttention(\n",
      "          (self): BertSelfAttention(\n",
      "            (query): Linear(input_dims=768, output_dims=768, bias=True)\n",
      "            (key): Linear(input_dims=768, output_dims=768, bias=True)\n",
      "            (value): Linear(input_dims=768, output_dims=768, bias=True)\n",
      "            (dropout): Dropout(p=0.09999999999999998)\n",
      "          )\n",
      "          (output): BertSelfOutput(\n",
      "            (dense): Linear(input_dims=768, output_dims=768, bias=True)\n",
      "            (LayerNorm): LayerNorm(768, eps=1e-12, affine=True)\n",
      "            (dropout): Dropout(p=0.09999999999999998)\n",
      "          )\n",
      "        )\n",
      "        (intermediate): BertIntermediate(\n",
      "          (dense): Linear(input_dims=768, output_dims=3072, bias=True)\n",
      "          (intermediate_act_fn): GELU()\n",
      "        )\n",
      "        (output): BertOutput(\n",
      "          (dense): Linear(input_dims=3072, output_dims=768, bias=True)\n",
      "          (LayerNorm): LayerNorm(768, eps=1e-12, affine=True)\n",
      "          (dropout): Dropout(p=0.09999999999999998)\n",
      "        )\n",
      "      )\n",
      "      (layer.3): BertLayer(\n",
      "        (attention): BertAttention(\n",
      "          (self): BertSelfAttention(\n",
      "            (query): Linear(input_dims=768, output_dims=768, bias=True)\n",
      "            (key): Linear(input_dims=768, output_dims=768, bias=True)\n",
      "            (value): Linear(input_dims=768, output_dims=768, bias=True)\n",
      "            (dropout): Dropout(p=0.09999999999999998)\n",
      "          )\n",
      "          (output): BertSelfOutput(\n",
      "            (dense): Linear(input_dims=768, output_dims=768, bias=True)\n",
      "            (LayerNorm): LayerNorm(768, eps=1e-12, affine=True)\n",
      "            (dropout): Dropout(p=0.09999999999999998)\n",
      "          )\n",
      "        )\n",
      "        (intermediate): BertIntermediate(\n",
      "          (dense): Linear(input_dims=768, output_dims=3072, bias=True)\n",
      "          (intermediate_act_fn): GELU()\n",
      "        )\n",
      "        (output): BertOutput(\n",
      "          (dense): Linear(input_dims=3072, output_dims=768, bias=True)\n",
      "          (LayerNorm): LayerNorm(768, eps=1e-12, affine=True)\n",
      "          (dropout): Dropout(p=0.09999999999999998)\n",
      "        )\n",
      "      )\n",
      "      (layer.4): BertLayer(\n",
      "        (attention): BertAttention(\n",
      "          (self): BertSelfAttention(\n",
      "            (query): Linear(input_dims=768, output_dims=768, bias=True)\n",
      "            (key): Linear(input_dims=768, output_dims=768, bias=True)\n",
      "            (value): Linear(input_dims=768, output_dims=768, bias=True)\n",
      "            (dropout): Dropout(p=0.09999999999999998)\n",
      "          )\n",
      "          (output): BertSelfOutput(\n",
      "            (dense): Linear(input_dims=768, output_dims=768, bias=True)\n",
      "            (LayerNorm): LayerNorm(768, eps=1e-12, affine=True)\n",
      "            (dropout): Dropout(p=0.09999999999999998)\n",
      "          )\n",
      "        )\n",
      "        (intermediate): BertIntermediate(\n",
      "          (dense): Linear(input_dims=768, output_dims=3072, bias=True)\n",
      "          (intermediate_act_fn): GELU()\n",
      "        )\n",
      "        (output): BertOutput(\n",
      "          (dense): Linear(input_dims=3072, output_dims=768, bias=True)\n",
      "          (LayerNorm): LayerNorm(768, eps=1e-12, affine=True)\n",
      "          (dropout): Dropout(p=0.09999999999999998)\n",
      "        )\n",
      "      )\n",
      "      (layer.5): BertLayer(\n",
      "        (attention): BertAttention(\n",
      "          (self): BertSelfAttention(\n",
      "            (query): Linear(input_dims=768, output_dims=768, bias=True)\n",
      "            (key): Linear(input_dims=768, output_dims=768, bias=True)\n",
      "            (value): Linear(input_dims=768, output_dims=768, bias=True)\n",
      "            (dropout): Dropout(p=0.09999999999999998)\n",
      "          )\n",
      "          (output): BertSelfOutput(\n",
      "            (dense): Linear(input_dims=768, output_dims=768, bias=True)\n",
      "            (LayerNorm): LayerNorm(768, eps=1e-12, affine=True)\n",
      "            (dropout): Dropout(p=0.09999999999999998)\n",
      "          )\n",
      "        )\n",
      "        (intermediate): BertIntermediate(\n",
      "          (dense): Linear(input_dims=768, output_dims=3072, bias=True)\n",
      "          (intermediate_act_fn): GELU()\n",
      "        )\n",
      "        (output): BertOutput(\n",
      "          (dense): Linear(input_dims=3072, output_dims=768, bias=True)\n",
      "          (LayerNorm): LayerNorm(768, eps=1e-12, affine=True)\n",
      "          (dropout): Dropout(p=0.09999999999999998)\n",
      "        )\n",
      "      )\n",
      "      (layer.6): BertLayer(\n",
      "        (attention): BertAttention(\n",
      "          (self): BertSelfAttention(\n",
      "            (query): Linear(input_dims=768, output_dims=768, bias=True)\n",
      "            (key): Linear(input_dims=768, output_dims=768, bias=True)\n",
      "            (value): Linear(input_dims=768, output_dims=768, bias=True)\n",
      "            (dropout): Dropout(p=0.09999999999999998)\n",
      "          )\n",
      "          (output): BertSelfOutput(\n",
      "            (dense): Linear(input_dims=768, output_dims=768, bias=True)\n",
      "            (LayerNorm): LayerNorm(768, eps=1e-12, affine=True)\n",
      "            (dropout): Dropout(p=0.09999999999999998)\n",
      "          )\n",
      "        )\n",
      "        (intermediate): BertIntermediate(\n",
      "          (dense): Linear(input_dims=768, output_dims=3072, bias=True)\n",
      "          (intermediate_act_fn): GELU()\n",
      "        )\n",
      "        (output): BertOutput(\n",
      "          (dense): Linear(input_dims=3072, output_dims=768, bias=True)\n",
      "          (LayerNorm): LayerNorm(768, eps=1e-12, affine=True)\n",
      "          (dropout): Dropout(p=0.09999999999999998)\n",
      "        )\n",
      "      )\n",
      "      (layer.7): BertLayer(\n",
      "        (attention): BertAttention(\n",
      "          (self): BertSelfAttention(\n",
      "            (query): Linear(input_dims=768, output_dims=768, bias=True)\n",
      "            (key): Linear(input_dims=768, output_dims=768, bias=True)\n",
      "            (value): Linear(input_dims=768, output_dims=768, bias=True)\n",
      "            (dropout): Dropout(p=0.09999999999999998)\n",
      "          )\n",
      "          (output): BertSelfOutput(\n",
      "            (dense): Linear(input_dims=768, output_dims=768, bias=True)\n",
      "            (LayerNorm): LayerNorm(768, eps=1e-12, affine=True)\n",
      "            (dropout): Dropout(p=0.09999999999999998)\n",
      "          )\n",
      "        )\n",
      "        (intermediate): BertIntermediate(\n",
      "          (dense): Linear(input_dims=768, output_dims=3072, bias=True)\n",
      "          (intermediate_act_fn): GELU()\n",
      "        )\n",
      "        (output): BertOutput(\n",
      "          (dense): Linear(input_dims=3072, output_dims=768, bias=True)\n",
      "          (LayerNorm): LayerNorm(768, eps=1e-12, affine=True)\n",
      "          (dropout): Dropout(p=0.09999999999999998)\n",
      "        )\n",
      "      )\n",
      "      (layer.8): BertLayer(\n",
      "        (attention): BertAttention(\n",
      "          (self): BertSelfAttention(\n",
      "            (query): Linear(input_dims=768, output_dims=768, bias=True)\n",
      "            (key): Linear(input_dims=768, output_dims=768, bias=True)\n",
      "            (value): Linear(input_dims=768, output_dims=768, bias=True)\n",
      "            (dropout): Dropout(p=0.09999999999999998)\n",
      "          )\n",
      "          (output): BertSelfOutput(\n",
      "            (dense): Linear(input_dims=768, output_dims=768, bias=True)\n",
      "            (LayerNorm): LayerNorm(768, eps=1e-12, affine=True)\n",
      "            (dropout): Dropout(p=0.09999999999999998)\n",
      "          )\n",
      "        )\n",
      "        (intermediate): BertIntermediate(\n",
      "          (dense): Linear(input_dims=768, output_dims=3072, bias=True)\n",
      "          (intermediate_act_fn): GELU()\n",
      "        )\n",
      "        (output): BertOutput(\n",
      "          (dense): Linear(input_dims=3072, output_dims=768, bias=True)\n",
      "          (LayerNorm): LayerNorm(768, eps=1e-12, affine=True)\n",
      "          (dropout): Dropout(p=0.09999999999999998)\n",
      "        )\n",
      "      )\n",
      "      (layer.9): BertLayer(\n",
      "        (attention): BertAttention(\n",
      "          (self): BertSelfAttention(\n",
      "            (query): Linear(input_dims=768, output_dims=768, bias=True)\n",
      "            (key): Linear(input_dims=768, output_dims=768, bias=True)\n",
      "            (value): Linear(input_dims=768, output_dims=768, bias=True)\n",
      "            (dropout): Dropout(p=0.09999999999999998)\n",
      "          )\n",
      "          (output): BertSelfOutput(\n",
      "            (dense): Linear(input_dims=768, output_dims=768, bias=True)\n",
      "            (LayerNorm): LayerNorm(768, eps=1e-12, affine=True)\n",
      "            (dropout): Dropout(p=0.09999999999999998)\n",
      "          )\n",
      "        )\n",
      "        (intermediate): BertIntermediate(\n",
      "          (dense): Linear(input_dims=768, output_dims=3072, bias=True)\n",
      "          (intermediate_act_fn): GELU()\n",
      "        )\n",
      "        (output): BertOutput(\n",
      "          (dense): Linear(input_dims=3072, output_dims=768, bias=True)\n",
      "          (LayerNorm): LayerNorm(768, eps=1e-12, affine=True)\n",
      "          (dropout): Dropout(p=0.09999999999999998)\n",
      "        )\n",
      "      )\n",
      "      (layer.10): BertLayer(\n",
      "        (attention): BertAttention(\n",
      "          (self): BertSelfAttention(\n",
      "            (query): Linear(input_dims=768, output_dims=768, bias=True)\n",
      "            (key): Linear(input_dims=768, output_dims=768, bias=True)\n",
      "            (value): Linear(input_dims=768, output_dims=768, bias=True)\n",
      "            (dropout): Dropout(p=0.09999999999999998)\n",
      "          )\n",
      "          (output): BertSelfOutput(\n",
      "            (dense): Linear(input_dims=768, output_dims=768, bias=True)\n",
      "            (LayerNorm): LayerNorm(768, eps=1e-12, affine=True)\n",
      "            (dropout): Dropout(p=0.09999999999999998)\n",
      "          )\n",
      "        )\n",
      "        (intermediate): BertIntermediate(\n",
      "          (dense): Linear(input_dims=768, output_dims=3072, bias=True)\n",
      "          (intermediate_act_fn): GELU()\n",
      "        )\n",
      "        (output): BertOutput(\n",
      "          (dense): Linear(input_dims=3072, output_dims=768, bias=True)\n",
      "          (LayerNorm): LayerNorm(768, eps=1e-12, affine=True)\n",
      "          (dropout): Dropout(p=0.09999999999999998)\n",
      "        )\n",
      "      )\n",
      "      (layer.11): BertLayer(\n",
      "        (attention): BertAttention(\n",
      "          (self): BertSelfAttention(\n",
      "            (query): Linear(input_dims=768, output_dims=768, bias=True)\n",
      "            (key): Linear(input_dims=768, output_dims=768, bias=True)\n",
      "            (value): Linear(input_dims=768, output_dims=768, bias=True)\n",
      "            (dropout): Dropout(p=0.09999999999999998)\n",
      "          )\n",
      "          (output): BertSelfOutput(\n",
      "            (dense): Linear(input_dims=768, output_dims=768, bias=True)\n",
      "            (LayerNorm): LayerNorm(768, eps=1e-12, affine=True)\n",
      "            (dropout): Dropout(p=0.09999999999999998)\n",
      "          )\n",
      "        )\n",
      "        (intermediate): BertIntermediate(\n",
      "          (dense): Linear(input_dims=768, output_dims=3072, bias=True)\n",
      "          (intermediate_act_fn): GELU()\n",
      "        )\n",
      "        (output): BertOutput(\n",
      "          (dense): Linear(input_dims=3072, output_dims=768, bias=True)\n",
      "          (LayerNorm): LayerNorm(768, eps=1e-12, affine=True)\n",
      "          (dropout): Dropout(p=0.09999999999999998)\n",
      "        )\n",
      "      )\n",
      "    )\n",
      "    (pooler): BertPooler(\n",
      "      (dense): Linear(input_dims=768, output_dims=768, bias=True)\n",
      "    )\n",
      "  )\n",
      "  (dropout): Dropout(p=0.09999999999999998)\n",
      "  (classifier): Linear(input_dims=768, output_dims=5, bias=True)\n",
      ")\n"
     ]
    }
   ],
   "source": [
    "model = MLXBertForSequenceClassification(config)\n",
    "print(model)"
   ]
  },
  {
   "cell_type": "code",
   "execution_count": 14,
   "metadata": {},
   "outputs": [],
   "source": [
    "loaded_weights = mx.load(\"converted_bert_clf.npz\")\n",
    "\n",
    "model.update(tree_unflatten(list(loaded_weights.items())))"
   ]
  },
  {
   "cell_type": "code",
   "execution_count": 15,
   "metadata": {},
   "outputs": [],
   "source": [
    "model.eval()"
   ]
  },
  {
   "cell_type": "code",
   "execution_count": 16,
   "metadata": {},
   "outputs": [],
   "source": [
    "mx.eval(model.parameters())"
   ]
  },
  {
   "cell_type": "code",
   "execution_count": 18,
   "metadata": {},
   "outputs": [
    {
     "name": "stdout",
     "output_type": "stream",
     "text": [
      "{'input_ids': array([[  101, 29155,   102]]), 'token_type_ids': array([[0, 0, 0]]), 'attention_mask': array([[1, 1, 1]])}\n"
     ]
    }
   ],
   "source": [
    "encoded = tokenizer(\"hello\", return_tensors=\"np\")\n",
    "print(encoded)\n",
    "\n",
    "input_ids = mx.array(encoded[\"input_ids\"])\n",
    "token_type_ids = mx.array(encoded[\"token_type_ids\"])\n",
    "attention_mask = mx.array(encoded[\"attention_mask\"])"
   ]
  },
  {
   "cell_type": "code",
   "execution_count": 20,
   "metadata": {},
   "outputs": [],
   "source": [
    "## Inference Test\n",
    "model_outputs = model(\n",
    "\tinput_ids,\n",
    "\tattention_mask = attention_mask,\n",
    "\ttoken_type_ids = token_type_ids\n",
    ")"
   ]
  },
  {
   "cell_type": "code",
   "execution_count": 22,
   "metadata": {},
   "outputs": [],
   "source": [
    "mlx_output = model_outputs"
   ]
  },
  {
   "cell_type": "code",
   "execution_count": 23,
   "metadata": {},
   "outputs": [
    {
     "name": "stdout",
     "output_type": "stream",
     "text": [
      "(tensor([[-0.4207, -1.1027, -0.2918,  0.1923,  1.3280]],\n",
      "       grad_fn=<AddmmBackward0>),)\n",
      "(array([[-0.420726, -1.10273, -0.291769, 0.192265, 1.32797]], dtype=float32),)\n"
     ]
    }
   ],
   "source": [
    "print(og_model_outputs)\n",
    "print(mlx_output)"
   ]
  }
 ],
 "metadata": {
  "kernelspec": {
   "display_name": "mlx",
   "language": "python",
   "name": "mlx"
  },
  "language_info": {
   "codemirror_mode": {
    "name": "ipython",
    "version": 3
   },
   "file_extension": ".py",
   "mimetype": "text/x-python",
   "name": "python",
   "nbconvert_exporter": "python",
   "pygments_lexer": "ipython3",
   "version": "3.8.18"
  }
 },
 "nbformat": 4,
 "nbformat_minor": 2
}
