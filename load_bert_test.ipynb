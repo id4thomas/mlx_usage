{
 "cells": [
  {
   "cell_type": "code",
   "execution_count": 1,
   "metadata": {},
   "outputs": [
    {
     "name": "stderr",
     "output_type": "stream",
     "text": [
      "/Users/id4thomas/miniforge3/envs/torch2/lib/python3.10/site-packages/tqdm/auto.py:21: TqdmWarning: IProgress not found. Please update jupyter and ipywidgets. See https://ipywidgets.readthedocs.io/en/stable/user_install.html\n",
      "  from .autonotebook import tqdm as notebook_tqdm\n",
      "/Users/id4thomas/miniforge3/envs/torch2/lib/python3.10/site-packages/bitsandbytes/cextension.py:34: UserWarning: The installed version of bitsandbytes was compiled without GPU support. 8-bit optimizers, 8-bit multiplication, and GPU quantization are unavailable.\n",
      "  warn(\"The installed version of bitsandbytes was compiled without GPU support. \"\n"
     ]
    },
    {
     "name": "stdout",
     "output_type": "stream",
     "text": [
      "'NoneType' object has no attribute 'cadam32bit_grad_fp32'\n"
     ]
    }
   ],
   "source": [
    "from models.bert import MLXBertModel\n",
    "from transformers import BertModel, AutoTokenizer\n",
    "from mlx.utils import tree_unflatten\n",
    "import mlx.core as mx\n",
    "import mlx.nn as nn\n",
    "import numpy as np"
   ]
  },
  {
   "cell_type": "markdown",
   "metadata": {},
   "source": [
    "## Load transformers Bert Model"
   ]
  },
  {
   "cell_type": "code",
   "execution_count": 2,
   "metadata": {},
   "outputs": [],
   "source": [
    "og_model = BertModel.from_pretrained(\"bert-base-uncased\") \n",
    "og_model.eval()\n",
    "\n",
    "config = og_model.config\n",
    "og_state = og_model.state_dict()"
   ]
  },
  {
   "cell_type": "code",
   "execution_count": 3,
   "metadata": {},
   "outputs": [
    {
     "name": "stdout",
     "output_type": "stream",
     "text": [
      "dict_keys(['embeddings.word_embeddings.weight', 'embeddings.position_embeddings.weight', 'embeddings.token_type_embeddings.weight', 'embeddings.LayerNorm.weight', 'embeddings.LayerNorm.bias', 'encoder.layer.0.attention.self.query.weight', 'encoder.layer.0.attention.self.query.bias', 'encoder.layer.0.attention.self.key.weight', 'encoder.layer.0.attention.self.key.bias', 'encoder.layer.0.attention.self.value.weight', 'encoder.layer.0.attention.self.value.bias', 'encoder.layer.0.attention.output.dense.weight', 'encoder.layer.0.attention.output.dense.bias', 'encoder.layer.0.attention.output.LayerNorm.weight', 'encoder.layer.0.attention.output.LayerNorm.bias', 'encoder.layer.0.intermediate.dense.weight', 'encoder.layer.0.intermediate.dense.bias', 'encoder.layer.0.output.dense.weight', 'encoder.layer.0.output.dense.bias', 'encoder.layer.0.output.LayerNorm.weight', 'encoder.layer.0.output.LayerNorm.bias', 'encoder.layer.1.attention.self.query.weight', 'encoder.layer.1.attention.self.query.bias', 'encoder.layer.1.attention.self.key.weight', 'encoder.layer.1.attention.self.key.bias', 'encoder.layer.1.attention.self.value.weight', 'encoder.layer.1.attention.self.value.bias', 'encoder.layer.1.attention.output.dense.weight', 'encoder.layer.1.attention.output.dense.bias', 'encoder.layer.1.attention.output.LayerNorm.weight', 'encoder.layer.1.attention.output.LayerNorm.bias', 'encoder.layer.1.intermediate.dense.weight', 'encoder.layer.1.intermediate.dense.bias', 'encoder.layer.1.output.dense.weight', 'encoder.layer.1.output.dense.bias', 'encoder.layer.1.output.LayerNorm.weight', 'encoder.layer.1.output.LayerNorm.bias', 'encoder.layer.2.attention.self.query.weight', 'encoder.layer.2.attention.self.query.bias', 'encoder.layer.2.attention.self.key.weight', 'encoder.layer.2.attention.self.key.bias', 'encoder.layer.2.attention.self.value.weight', 'encoder.layer.2.attention.self.value.bias', 'encoder.layer.2.attention.output.dense.weight', 'encoder.layer.2.attention.output.dense.bias', 'encoder.layer.2.attention.output.LayerNorm.weight', 'encoder.layer.2.attention.output.LayerNorm.bias', 'encoder.layer.2.intermediate.dense.weight', 'encoder.layer.2.intermediate.dense.bias', 'encoder.layer.2.output.dense.weight', 'encoder.layer.2.output.dense.bias', 'encoder.layer.2.output.LayerNorm.weight', 'encoder.layer.2.output.LayerNorm.bias', 'encoder.layer.3.attention.self.query.weight', 'encoder.layer.3.attention.self.query.bias', 'encoder.layer.3.attention.self.key.weight', 'encoder.layer.3.attention.self.key.bias', 'encoder.layer.3.attention.self.value.weight', 'encoder.layer.3.attention.self.value.bias', 'encoder.layer.3.attention.output.dense.weight', 'encoder.layer.3.attention.output.dense.bias', 'encoder.layer.3.attention.output.LayerNorm.weight', 'encoder.layer.3.attention.output.LayerNorm.bias', 'encoder.layer.3.intermediate.dense.weight', 'encoder.layer.3.intermediate.dense.bias', 'encoder.layer.3.output.dense.weight', 'encoder.layer.3.output.dense.bias', 'encoder.layer.3.output.LayerNorm.weight', 'encoder.layer.3.output.LayerNorm.bias', 'encoder.layer.4.attention.self.query.weight', 'encoder.layer.4.attention.self.query.bias', 'encoder.layer.4.attention.self.key.weight', 'encoder.layer.4.attention.self.key.bias', 'encoder.layer.4.attention.self.value.weight', 'encoder.layer.4.attention.self.value.bias', 'encoder.layer.4.attention.output.dense.weight', 'encoder.layer.4.attention.output.dense.bias', 'encoder.layer.4.attention.output.LayerNorm.weight', 'encoder.layer.4.attention.output.LayerNorm.bias', 'encoder.layer.4.intermediate.dense.weight', 'encoder.layer.4.intermediate.dense.bias', 'encoder.layer.4.output.dense.weight', 'encoder.layer.4.output.dense.bias', 'encoder.layer.4.output.LayerNorm.weight', 'encoder.layer.4.output.LayerNorm.bias', 'encoder.layer.5.attention.self.query.weight', 'encoder.layer.5.attention.self.query.bias', 'encoder.layer.5.attention.self.key.weight', 'encoder.layer.5.attention.self.key.bias', 'encoder.layer.5.attention.self.value.weight', 'encoder.layer.5.attention.self.value.bias', 'encoder.layer.5.attention.output.dense.weight', 'encoder.layer.5.attention.output.dense.bias', 'encoder.layer.5.attention.output.LayerNorm.weight', 'encoder.layer.5.attention.output.LayerNorm.bias', 'encoder.layer.5.intermediate.dense.weight', 'encoder.layer.5.intermediate.dense.bias', 'encoder.layer.5.output.dense.weight', 'encoder.layer.5.output.dense.bias', 'encoder.layer.5.output.LayerNorm.weight', 'encoder.layer.5.output.LayerNorm.bias', 'encoder.layer.6.attention.self.query.weight', 'encoder.layer.6.attention.self.query.bias', 'encoder.layer.6.attention.self.key.weight', 'encoder.layer.6.attention.self.key.bias', 'encoder.layer.6.attention.self.value.weight', 'encoder.layer.6.attention.self.value.bias', 'encoder.layer.6.attention.output.dense.weight', 'encoder.layer.6.attention.output.dense.bias', 'encoder.layer.6.attention.output.LayerNorm.weight', 'encoder.layer.6.attention.output.LayerNorm.bias', 'encoder.layer.6.intermediate.dense.weight', 'encoder.layer.6.intermediate.dense.bias', 'encoder.layer.6.output.dense.weight', 'encoder.layer.6.output.dense.bias', 'encoder.layer.6.output.LayerNorm.weight', 'encoder.layer.6.output.LayerNorm.bias', 'encoder.layer.7.attention.self.query.weight', 'encoder.layer.7.attention.self.query.bias', 'encoder.layer.7.attention.self.key.weight', 'encoder.layer.7.attention.self.key.bias', 'encoder.layer.7.attention.self.value.weight', 'encoder.layer.7.attention.self.value.bias', 'encoder.layer.7.attention.output.dense.weight', 'encoder.layer.7.attention.output.dense.bias', 'encoder.layer.7.attention.output.LayerNorm.weight', 'encoder.layer.7.attention.output.LayerNorm.bias', 'encoder.layer.7.intermediate.dense.weight', 'encoder.layer.7.intermediate.dense.bias', 'encoder.layer.7.output.dense.weight', 'encoder.layer.7.output.dense.bias', 'encoder.layer.7.output.LayerNorm.weight', 'encoder.layer.7.output.LayerNorm.bias', 'encoder.layer.8.attention.self.query.weight', 'encoder.layer.8.attention.self.query.bias', 'encoder.layer.8.attention.self.key.weight', 'encoder.layer.8.attention.self.key.bias', 'encoder.layer.8.attention.self.value.weight', 'encoder.layer.8.attention.self.value.bias', 'encoder.layer.8.attention.output.dense.weight', 'encoder.layer.8.attention.output.dense.bias', 'encoder.layer.8.attention.output.LayerNorm.weight', 'encoder.layer.8.attention.output.LayerNorm.bias', 'encoder.layer.8.intermediate.dense.weight', 'encoder.layer.8.intermediate.dense.bias', 'encoder.layer.8.output.dense.weight', 'encoder.layer.8.output.dense.bias', 'encoder.layer.8.output.LayerNorm.weight', 'encoder.layer.8.output.LayerNorm.bias', 'encoder.layer.9.attention.self.query.weight', 'encoder.layer.9.attention.self.query.bias', 'encoder.layer.9.attention.self.key.weight', 'encoder.layer.9.attention.self.key.bias', 'encoder.layer.9.attention.self.value.weight', 'encoder.layer.9.attention.self.value.bias', 'encoder.layer.9.attention.output.dense.weight', 'encoder.layer.9.attention.output.dense.bias', 'encoder.layer.9.attention.output.LayerNorm.weight', 'encoder.layer.9.attention.output.LayerNorm.bias', 'encoder.layer.9.intermediate.dense.weight', 'encoder.layer.9.intermediate.dense.bias', 'encoder.layer.9.output.dense.weight', 'encoder.layer.9.output.dense.bias', 'encoder.layer.9.output.LayerNorm.weight', 'encoder.layer.9.output.LayerNorm.bias', 'encoder.layer.10.attention.self.query.weight', 'encoder.layer.10.attention.self.query.bias', 'encoder.layer.10.attention.self.key.weight', 'encoder.layer.10.attention.self.key.bias', 'encoder.layer.10.attention.self.value.weight', 'encoder.layer.10.attention.self.value.bias', 'encoder.layer.10.attention.output.dense.weight', 'encoder.layer.10.attention.output.dense.bias', 'encoder.layer.10.attention.output.LayerNorm.weight', 'encoder.layer.10.attention.output.LayerNorm.bias', 'encoder.layer.10.intermediate.dense.weight', 'encoder.layer.10.intermediate.dense.bias', 'encoder.layer.10.output.dense.weight', 'encoder.layer.10.output.dense.bias', 'encoder.layer.10.output.LayerNorm.weight', 'encoder.layer.10.output.LayerNorm.bias', 'encoder.layer.11.attention.self.query.weight', 'encoder.layer.11.attention.self.query.bias', 'encoder.layer.11.attention.self.key.weight', 'encoder.layer.11.attention.self.key.bias', 'encoder.layer.11.attention.self.value.weight', 'encoder.layer.11.attention.self.value.bias', 'encoder.layer.11.attention.output.dense.weight', 'encoder.layer.11.attention.output.dense.bias', 'encoder.layer.11.attention.output.LayerNorm.weight', 'encoder.layer.11.attention.output.LayerNorm.bias', 'encoder.layer.11.intermediate.dense.weight', 'encoder.layer.11.intermediate.dense.bias', 'encoder.layer.11.output.dense.weight', 'encoder.layer.11.output.dense.bias', 'encoder.layer.11.output.LayerNorm.weight', 'encoder.layer.11.output.LayerNorm.bias', 'pooler.dense.weight', 'pooler.dense.bias'])\n"
     ]
    }
   ],
   "source": [
    "converted_weights = {k: mx.array(v.numpy()) for k, v in og_state.items() if k is not None}\n",
    "print(converted_weights.keys())\n",
    "\n",
    "np.savez(\"converted_bert.npz\", **converted_weights)"
   ]
  },
  {
   "cell_type": "code",
   "execution_count": 4,
   "metadata": {},
   "outputs": [],
   "source": [
    "tokenizer = AutoTokenizer.from_pretrained(\"bert-base-uncased\") "
   ]
  },
  {
   "cell_type": "code",
   "execution_count": 5,
   "metadata": {},
   "outputs": [
    {
     "name": "stdout",
     "output_type": "stream",
     "text": [
      "{'input_ids': tensor([[ 101, 7592,  102]]), 'token_type_ids': tensor([[0, 0, 0]]), 'attention_mask': tensor([[1, 1, 1]])}\n"
     ]
    }
   ],
   "source": [
    "## ORIGINAL OUTPUT\n",
    "encoded = tokenizer(\"hello\", return_tensors=\"pt\")\n",
    "print(encoded)"
   ]
  },
  {
   "cell_type": "code",
   "execution_count": 6,
   "metadata": {},
   "outputs": [],
   "source": [
    "## Inference Test\n",
    "og_model_outputs = og_model(\n",
    "\tencoded[\"input_ids\"],\n",
    "\tattention_mask = encoded[\"attention_mask\"],\n",
    "\ttoken_type_ids = encoded[\"token_type_ids\"]\n",
    ")"
   ]
  },
  {
   "cell_type": "code",
   "execution_count": 7,
   "metadata": {},
   "outputs": [
    {
     "name": "stdout",
     "output_type": "stream",
     "text": [
      "torch.Size([1, 3, 768])\n",
      "torch.Size([1, 768])\n"
     ]
    }
   ],
   "source": [
    "print(og_model_outputs[0].shape)\n",
    "print(og_model_outputs[1].shape)"
   ]
  },
  {
   "cell_type": "markdown",
   "metadata": {},
   "source": [
    "## Load MLX Model"
   ]
  },
  {
   "cell_type": "code",
   "execution_count": 8,
   "metadata": {},
   "outputs": [
    {
     "name": "stdout",
     "output_type": "stream",
     "text": [
      "MLXBertModel(\n",
      "  (embeddings): BertEmbeddings(\n",
      "    (word_embeddings): Embedding(30522, 768)\n",
      "    (position_embeddings): Embedding(512, 768)\n",
      "    (token_type_embeddings): Embedding(2, 768)\n",
      "    (LayerNorm): LayerNorm(768, eps=1e-12, affine=True)\n",
      "    (dropout): Dropout(p=0.09999999999999998)\n",
      "  )\n",
      "  (encoder): BertEncoder(\n",
      "    (layer.0): BertLayer(\n",
      "      (attention): BertAttention(\n",
      "        (self): BertSelfAttention(\n",
      "          (query): Linear(input_dims=768, output_dims=768, bias=True)\n",
      "          (key): Linear(input_dims=768, output_dims=768, bias=True)\n",
      "          (value): Linear(input_dims=768, output_dims=768, bias=True)\n",
      "          (dropout): Dropout(p=0.09999999999999998)\n",
      "        )\n",
      "        (output): BertSelfOutput(\n",
      "          (dense): Linear(input_dims=768, output_dims=768, bias=True)\n",
      "          (LayerNorm): LayerNorm(768, eps=1e-12, affine=True)\n",
      "          (dropout): Dropout(p=0.09999999999999998)\n",
      "        )\n",
      "      )\n",
      "      (intermediate): BertIntermediate(\n",
      "        (dense): Linear(input_dims=768, output_dims=3072, bias=True)\n",
      "        (intermediate_act_fn): GELU()\n",
      "      )\n",
      "      (output): BertOutput(\n",
      "        (dense): Linear(input_dims=3072, output_dims=768, bias=True)\n",
      "        (LayerNorm): LayerNorm(768, eps=1e-12, affine=True)\n",
      "        (dropout): Dropout(p=0.09999999999999998)\n",
      "      )\n",
      "    )\n",
      "    (layer.1): BertLayer(\n",
      "      (attention): BertAttention(\n",
      "        (self): BertSelfAttention(\n",
      "          (query): Linear(input_dims=768, output_dims=768, bias=True)\n",
      "          (key): Linear(input_dims=768, output_dims=768, bias=True)\n",
      "          (value): Linear(input_dims=768, output_dims=768, bias=True)\n",
      "          (dropout): Dropout(p=0.09999999999999998)\n",
      "        )\n",
      "        (output): BertSelfOutput(\n",
      "          (dense): Linear(input_dims=768, output_dims=768, bias=True)\n",
      "          (LayerNorm): LayerNorm(768, eps=1e-12, affine=True)\n",
      "          (dropout): Dropout(p=0.09999999999999998)\n",
      "        )\n",
      "      )\n",
      "      (intermediate): BertIntermediate(\n",
      "        (dense): Linear(input_dims=768, output_dims=3072, bias=True)\n",
      "        (intermediate_act_fn): GELU()\n",
      "      )\n",
      "      (output): BertOutput(\n",
      "        (dense): Linear(input_dims=3072, output_dims=768, bias=True)\n",
      "        (LayerNorm): LayerNorm(768, eps=1e-12, affine=True)\n",
      "        (dropout): Dropout(p=0.09999999999999998)\n",
      "      )\n",
      "    )\n",
      "    (layer.2): BertLayer(\n",
      "      (attention): BertAttention(\n",
      "        (self): BertSelfAttention(\n",
      "          (query): Linear(input_dims=768, output_dims=768, bias=True)\n",
      "          (key): Linear(input_dims=768, output_dims=768, bias=True)\n",
      "          (value): Linear(input_dims=768, output_dims=768, bias=True)\n",
      "          (dropout): Dropout(p=0.09999999999999998)\n",
      "        )\n",
      "        (output): BertSelfOutput(\n",
      "          (dense): Linear(input_dims=768, output_dims=768, bias=True)\n",
      "          (LayerNorm): LayerNorm(768, eps=1e-12, affine=True)\n",
      "          (dropout): Dropout(p=0.09999999999999998)\n",
      "        )\n",
      "      )\n",
      "      (intermediate): BertIntermediate(\n",
      "        (dense): Linear(input_dims=768, output_dims=3072, bias=True)\n",
      "        (intermediate_act_fn): GELU()\n",
      "      )\n",
      "      (output): BertOutput(\n",
      "        (dense): Linear(input_dims=3072, output_dims=768, bias=True)\n",
      "        (LayerNorm): LayerNorm(768, eps=1e-12, affine=True)\n",
      "        (dropout): Dropout(p=0.09999999999999998)\n",
      "      )\n",
      "    )\n",
      "    (layer.3): BertLayer(\n",
      "      (attention): BertAttention(\n",
      "        (self): BertSelfAttention(\n",
      "          (query): Linear(input_dims=768, output_dims=768, bias=True)\n",
      "          (key): Linear(input_dims=768, output_dims=768, bias=True)\n",
      "          (value): Linear(input_dims=768, output_dims=768, bias=True)\n",
      "          (dropout): Dropout(p=0.09999999999999998)\n",
      "        )\n",
      "        (output): BertSelfOutput(\n",
      "          (dense): Linear(input_dims=768, output_dims=768, bias=True)\n",
      "          (LayerNorm): LayerNorm(768, eps=1e-12, affine=True)\n",
      "          (dropout): Dropout(p=0.09999999999999998)\n",
      "        )\n",
      "      )\n",
      "      (intermediate): BertIntermediate(\n",
      "        (dense): Linear(input_dims=768, output_dims=3072, bias=True)\n",
      "        (intermediate_act_fn): GELU()\n",
      "      )\n",
      "      (output): BertOutput(\n",
      "        (dense): Linear(input_dims=3072, output_dims=768, bias=True)\n",
      "        (LayerNorm): LayerNorm(768, eps=1e-12, affine=True)\n",
      "        (dropout): Dropout(p=0.09999999999999998)\n",
      "      )\n",
      "    )\n",
      "    (layer.4): BertLayer(\n",
      "      (attention): BertAttention(\n",
      "        (self): BertSelfAttention(\n",
      "          (query): Linear(input_dims=768, output_dims=768, bias=True)\n",
      "          (key): Linear(input_dims=768, output_dims=768, bias=True)\n",
      "          (value): Linear(input_dims=768, output_dims=768, bias=True)\n",
      "          (dropout): Dropout(p=0.09999999999999998)\n",
      "        )\n",
      "        (output): BertSelfOutput(\n",
      "          (dense): Linear(input_dims=768, output_dims=768, bias=True)\n",
      "          (LayerNorm): LayerNorm(768, eps=1e-12, affine=True)\n",
      "          (dropout): Dropout(p=0.09999999999999998)\n",
      "        )\n",
      "      )\n",
      "      (intermediate): BertIntermediate(\n",
      "        (dense): Linear(input_dims=768, output_dims=3072, bias=True)\n",
      "        (intermediate_act_fn): GELU()\n",
      "      )\n",
      "      (output): BertOutput(\n",
      "        (dense): Linear(input_dims=3072, output_dims=768, bias=True)\n",
      "        (LayerNorm): LayerNorm(768, eps=1e-12, affine=True)\n",
      "        (dropout): Dropout(p=0.09999999999999998)\n",
      "      )\n",
      "    )\n",
      "    (layer.5): BertLayer(\n",
      "      (attention): BertAttention(\n",
      "        (self): BertSelfAttention(\n",
      "          (query): Linear(input_dims=768, output_dims=768, bias=True)\n",
      "          (key): Linear(input_dims=768, output_dims=768, bias=True)\n",
      "          (value): Linear(input_dims=768, output_dims=768, bias=True)\n",
      "          (dropout): Dropout(p=0.09999999999999998)\n",
      "        )\n",
      "        (output): BertSelfOutput(\n",
      "          (dense): Linear(input_dims=768, output_dims=768, bias=True)\n",
      "          (LayerNorm): LayerNorm(768, eps=1e-12, affine=True)\n",
      "          (dropout): Dropout(p=0.09999999999999998)\n",
      "        )\n",
      "      )\n",
      "      (intermediate): BertIntermediate(\n",
      "        (dense): Linear(input_dims=768, output_dims=3072, bias=True)\n",
      "        (intermediate_act_fn): GELU()\n",
      "      )\n",
      "      (output): BertOutput(\n",
      "        (dense): Linear(input_dims=3072, output_dims=768, bias=True)\n",
      "        (LayerNorm): LayerNorm(768, eps=1e-12, affine=True)\n",
      "        (dropout): Dropout(p=0.09999999999999998)\n",
      "      )\n",
      "    )\n",
      "    (layer.6): BertLayer(\n",
      "      (attention): BertAttention(\n",
      "        (self): BertSelfAttention(\n",
      "          (query): Linear(input_dims=768, output_dims=768, bias=True)\n",
      "          (key): Linear(input_dims=768, output_dims=768, bias=True)\n",
      "          (value): Linear(input_dims=768, output_dims=768, bias=True)\n",
      "          (dropout): Dropout(p=0.09999999999999998)\n",
      "        )\n",
      "        (output): BertSelfOutput(\n",
      "          (dense): Linear(input_dims=768, output_dims=768, bias=True)\n",
      "          (LayerNorm): LayerNorm(768, eps=1e-12, affine=True)\n",
      "          (dropout): Dropout(p=0.09999999999999998)\n",
      "        )\n",
      "      )\n",
      "      (intermediate): BertIntermediate(\n",
      "        (dense): Linear(input_dims=768, output_dims=3072, bias=True)\n",
      "        (intermediate_act_fn): GELU()\n",
      "      )\n",
      "      (output): BertOutput(\n",
      "        (dense): Linear(input_dims=3072, output_dims=768, bias=True)\n",
      "        (LayerNorm): LayerNorm(768, eps=1e-12, affine=True)\n",
      "        (dropout): Dropout(p=0.09999999999999998)\n",
      "      )\n",
      "    )\n",
      "    (layer.7): BertLayer(\n",
      "      (attention): BertAttention(\n",
      "        (self): BertSelfAttention(\n",
      "          (query): Linear(input_dims=768, output_dims=768, bias=True)\n",
      "          (key): Linear(input_dims=768, output_dims=768, bias=True)\n",
      "          (value): Linear(input_dims=768, output_dims=768, bias=True)\n",
      "          (dropout): Dropout(p=0.09999999999999998)\n",
      "        )\n",
      "        (output): BertSelfOutput(\n",
      "          (dense): Linear(input_dims=768, output_dims=768, bias=True)\n",
      "          (LayerNorm): LayerNorm(768, eps=1e-12, affine=True)\n",
      "          (dropout): Dropout(p=0.09999999999999998)\n",
      "        )\n",
      "      )\n",
      "      (intermediate): BertIntermediate(\n",
      "        (dense): Linear(input_dims=768, output_dims=3072, bias=True)\n",
      "        (intermediate_act_fn): GELU()\n",
      "      )\n",
      "      (output): BertOutput(\n",
      "        (dense): Linear(input_dims=3072, output_dims=768, bias=True)\n",
      "        (LayerNorm): LayerNorm(768, eps=1e-12, affine=True)\n",
      "        (dropout): Dropout(p=0.09999999999999998)\n",
      "      )\n",
      "    )\n",
      "    (layer.8): BertLayer(\n",
      "      (attention): BertAttention(\n",
      "        (self): BertSelfAttention(\n",
      "          (query): Linear(input_dims=768, output_dims=768, bias=True)\n",
      "          (key): Linear(input_dims=768, output_dims=768, bias=True)\n",
      "          (value): Linear(input_dims=768, output_dims=768, bias=True)\n",
      "          (dropout): Dropout(p=0.09999999999999998)\n",
      "        )\n",
      "        (output): BertSelfOutput(\n",
      "          (dense): Linear(input_dims=768, output_dims=768, bias=True)\n",
      "          (LayerNorm): LayerNorm(768, eps=1e-12, affine=True)\n",
      "          (dropout): Dropout(p=0.09999999999999998)\n",
      "        )\n",
      "      )\n",
      "      (intermediate): BertIntermediate(\n",
      "        (dense): Linear(input_dims=768, output_dims=3072, bias=True)\n",
      "        (intermediate_act_fn): GELU()\n",
      "      )\n",
      "      (output): BertOutput(\n",
      "        (dense): Linear(input_dims=3072, output_dims=768, bias=True)\n",
      "        (LayerNorm): LayerNorm(768, eps=1e-12, affine=True)\n",
      "        (dropout): Dropout(p=0.09999999999999998)\n",
      "      )\n",
      "    )\n",
      "    (layer.9): BertLayer(\n",
      "      (attention): BertAttention(\n",
      "        (self): BertSelfAttention(\n",
      "          (query): Linear(input_dims=768, output_dims=768, bias=True)\n",
      "          (key): Linear(input_dims=768, output_dims=768, bias=True)\n",
      "          (value): Linear(input_dims=768, output_dims=768, bias=True)\n",
      "          (dropout): Dropout(p=0.09999999999999998)\n",
      "        )\n",
      "        (output): BertSelfOutput(\n",
      "          (dense): Linear(input_dims=768, output_dims=768, bias=True)\n",
      "          (LayerNorm): LayerNorm(768, eps=1e-12, affine=True)\n",
      "          (dropout): Dropout(p=0.09999999999999998)\n",
      "        )\n",
      "      )\n",
      "      (intermediate): BertIntermediate(\n",
      "        (dense): Linear(input_dims=768, output_dims=3072, bias=True)\n",
      "        (intermediate_act_fn): GELU()\n",
      "      )\n",
      "      (output): BertOutput(\n",
      "        (dense): Linear(input_dims=3072, output_dims=768, bias=True)\n",
      "        (LayerNorm): LayerNorm(768, eps=1e-12, affine=True)\n",
      "        (dropout): Dropout(p=0.09999999999999998)\n",
      "      )\n",
      "    )\n",
      "    (layer.10): BertLayer(\n",
      "      (attention): BertAttention(\n",
      "        (self): BertSelfAttention(\n",
      "          (query): Linear(input_dims=768, output_dims=768, bias=True)\n",
      "          (key): Linear(input_dims=768, output_dims=768, bias=True)\n",
      "          (value): Linear(input_dims=768, output_dims=768, bias=True)\n",
      "          (dropout): Dropout(p=0.09999999999999998)\n",
      "        )\n",
      "        (output): BertSelfOutput(\n",
      "          (dense): Linear(input_dims=768, output_dims=768, bias=True)\n",
      "          (LayerNorm): LayerNorm(768, eps=1e-12, affine=True)\n",
      "          (dropout): Dropout(p=0.09999999999999998)\n",
      "        )\n",
      "      )\n",
      "      (intermediate): BertIntermediate(\n",
      "        (dense): Linear(input_dims=768, output_dims=3072, bias=True)\n",
      "        (intermediate_act_fn): GELU()\n",
      "      )\n",
      "      (output): BertOutput(\n",
      "        (dense): Linear(input_dims=3072, output_dims=768, bias=True)\n",
      "        (LayerNorm): LayerNorm(768, eps=1e-12, affine=True)\n",
      "        (dropout): Dropout(p=0.09999999999999998)\n",
      "      )\n",
      "    )\n",
      "    (layer.11): BertLayer(\n",
      "      (attention): BertAttention(\n",
      "        (self): BertSelfAttention(\n",
      "          (query): Linear(input_dims=768, output_dims=768, bias=True)\n",
      "          (key): Linear(input_dims=768, output_dims=768, bias=True)\n",
      "          (value): Linear(input_dims=768, output_dims=768, bias=True)\n",
      "          (dropout): Dropout(p=0.09999999999999998)\n",
      "        )\n",
      "        (output): BertSelfOutput(\n",
      "          (dense): Linear(input_dims=768, output_dims=768, bias=True)\n",
      "          (LayerNorm): LayerNorm(768, eps=1e-12, affine=True)\n",
      "          (dropout): Dropout(p=0.09999999999999998)\n",
      "        )\n",
      "      )\n",
      "      (intermediate): BertIntermediate(\n",
      "        (dense): Linear(input_dims=768, output_dims=3072, bias=True)\n",
      "        (intermediate_act_fn): GELU()\n",
      "      )\n",
      "      (output): BertOutput(\n",
      "        (dense): Linear(input_dims=3072, output_dims=768, bias=True)\n",
      "        (LayerNorm): LayerNorm(768, eps=1e-12, affine=True)\n",
      "        (dropout): Dropout(p=0.09999999999999998)\n",
      "      )\n",
      "    )\n",
      "  )\n",
      "  (pooler): BertPooler(\n",
      "    (dense): Linear(input_dims=768, output_dims=768, bias=True)\n",
      "  )\n",
      ")\n"
     ]
    }
   ],
   "source": [
    "model = MLXBertModel(config)\n",
    "print(model)"
   ]
  },
  {
   "cell_type": "code",
   "execution_count": 9,
   "metadata": {},
   "outputs": [],
   "source": [
    "loaded_weights = mx.load(\"converted_bert.npz\")\n",
    "\n",
    "model.update(tree_unflatten(list(loaded_weights.items())))"
   ]
  },
  {
   "cell_type": "code",
   "execution_count": 10,
   "metadata": {},
   "outputs": [],
   "source": [
    "model.eval()"
   ]
  },
  {
   "cell_type": "code",
   "execution_count": 11,
   "metadata": {},
   "outputs": [],
   "source": [
    "mx.eval(model.parameters())"
   ]
  },
  {
   "cell_type": "code",
   "execution_count": 12,
   "metadata": {},
   "outputs": [
    {
     "name": "stdout",
     "output_type": "stream",
     "text": [
      "<class 'torch.nn.parameter.Parameter'>\n",
      "<class 'mlx.core.array'>\n",
      "transformers tensor([-0.0164,  0.0261, -0.0263,  0.0360, -0.0203,  0.0531,  0.0137,  0.0225,\n",
      "         0.0029, -0.0002], grad_fn=<SliceBackward0>)\n",
      "transformers torch.float32\n",
      "MLX array([-0.0164057, 0.0260757, -0.026277, ..., 0.0225361, 0.00293946, -0.000168063], dtype=float32)\n",
      "MLX float32\n"
     ]
    }
   ],
   "source": [
    "# Weight Comparison\n",
    "print(type(og_model.encoder.layer[0].attention.self.query.weight))\n",
    "print(type(model.encoder.layer[0].attention.self.query.weight))\n",
    "\n",
    "## Check Weight Values\n",
    "print(\"transformers\", og_model.encoder.layer[0].attention.self.query.weight[0][:10])\n",
    "print(\"transformers\", og_model.encoder.layer[0].attention.self.query.weight.dtype)\n",
    "print(\"MLX\", model.encoder.layer[0].attention.self.query.weight[0][:10])\n",
    "print(\"MLX\", model.encoder.layer[0].attention.self.query.weight.dtype)"
   ]
  },
  {
   "cell_type": "code",
   "execution_count": 13,
   "metadata": {},
   "outputs": [
    {
     "name": "stdout",
     "output_type": "stream",
     "text": [
      "{'input_ids': array([[ 101, 7592,  102]]), 'token_type_ids': array([[0, 0, 0]]), 'attention_mask': array([[1, 1, 1]])}\n"
     ]
    }
   ],
   "source": [
    "encoded = tokenizer(\"hello\", return_tensors=\"np\")\n",
    "print(encoded)\n",
    "\n",
    "input_ids = mx.array(encoded[\"input_ids\"])\n",
    "token_type_ids = mx.array(encoded[\"token_type_ids\"])\n",
    "attention_mask = mx.array(encoded[\"attention_mask\"])"
   ]
  },
  {
   "cell_type": "code",
   "execution_count": 14,
   "metadata": {},
   "outputs": [
    {
     "name": "stdout",
     "output_type": "stream",
     "text": [
      "array([[101, 7592, 102]], dtype=int64)\n",
      "<class 'mlx.core.array'>\n"
     ]
    },
    {
     "data": {
      "text/plain": [
       "array([[[0.0136303, -0.0264904, -0.0235031, ..., 0.00868047, 0.00713399, 0.0151473],\n",
       "        [-0.00431649, -0.0330471, -0.0217315, ..., -0.0424661, -0.0126787, -0.0388732],\n",
       "        [-0.0145212, -0.00996149, 0.00602628, ..., -0.0250345, 0.00463789, -0.00153777]]], dtype=float32)"
      ]
     },
     "execution_count": 14,
     "metadata": {},
     "output_type": "execute_result"
    }
   ],
   "source": [
    "print(input_ids)\n",
    "print(type(model.embeddings.word_embeddings.weight))\n",
    "model.embeddings.word_embeddings.weight[input_ids]"
   ]
  },
  {
   "cell_type": "code",
   "execution_count": 15,
   "metadata": {},
   "outputs": [],
   "source": [
    "## Inference Test\n",
    "model_outputs = model(\n",
    "\tinput_ids,\n",
    "\tattention_mask = attention_mask,\n",
    "\ttoken_type_ids = token_type_ids\n",
    ")"
   ]
  },
  {
   "cell_type": "code",
   "execution_count": 16,
   "metadata": {},
   "outputs": [],
   "source": [
    "sequence_output, pooled_output = model_outputs"
   ]
  },
  {
   "cell_type": "code",
   "execution_count": 17,
   "metadata": {},
   "outputs": [
    {
     "name": "stdout",
     "output_type": "stream",
     "text": [
      "[1, 3, 768]\n",
      "[1, 768]\n"
     ]
    }
   ],
   "source": [
    "print(sequence_output.shape)\n",
    "print(pooled_output.shape)"
   ]
  },
  {
   "cell_type": "markdown",
   "metadata": {},
   "source": [
    "## Output Comparison"
   ]
  },
  {
   "cell_type": "code",
   "execution_count": 18,
   "metadata": {},
   "outputs": [
    {
     "name": "stdout",
     "output_type": "stream",
     "text": [
      "array([-0.306098, 0.262229, -0.189619, ..., 0.379691, -0.125868, -0.114839], dtype=float32)\n",
      "tensor([-0.3061,  0.2622, -0.1896, -0.1443, -0.1412, -0.1420,  0.1758,  0.3797,\n",
      "        -0.1259, -0.1148], grad_fn=<SliceBackward0>)\n"
     ]
    }
   ],
   "source": [
    "print(sequence_output[0,0,:10])\n",
    "print(og_model_outputs[0][0,0,:10])"
   ]
  },
  {
   "cell_type": "code",
   "execution_count": 19,
   "metadata": {},
   "outputs": [
    {
     "name": "stdout",
     "output_type": "stream",
     "text": [
      "array([-0.773578], dtype=float32)\n",
      "tensor([-0.7736], grad_fn=<SelectBackward0>)\n"
     ]
    }
   ],
   "source": [
    "print(pooled_output[:,0])\n",
    "print(og_model_outputs[1][:,0])"
   ]
  }
 ],
 "metadata": {
  "kernelspec": {
   "display_name": "torch2",
   "language": "python",
   "name": "torch2"
  },
  "language_info": {
   "codemirror_mode": {
    "name": "ipython",
    "version": 3
   },
   "file_extension": ".py",
   "mimetype": "text/x-python",
   "name": "python",
   "nbconvert_exporter": "python",
   "pygments_lexer": "ipython3",
   "version": "3.10.8"
  }
 },
 "nbformat": 4,
 "nbformat_minor": 2
}
