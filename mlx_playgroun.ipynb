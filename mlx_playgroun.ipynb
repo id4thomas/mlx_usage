{
 "cells": [
  {
   "cell_type": "code",
   "execution_count": 1,
   "metadata": {},
   "outputs": [
    {
     "name": "stdout",
     "output_type": "stream",
     "text": [
      "Name: mlx\n",
      "Version: 0.0.4\n",
      "Summary: A framework for machine learning on Apple Silicon.\n",
      "Home-page: \n",
      "Author: MLX Contributors\n",
      "Author-email: mlx@group.apple.com\n",
      "License: \n",
      "Location: /Users/id4thomas/miniforge3/envs/torch2/lib/python3.10/site-packages\n",
      "Requires: \n",
      "Required-by: \n"
     ]
    }
   ],
   "source": [
    "!pip show mlx"
   ]
  },
  {
   "cell_type": "code",
   "execution_count": 2,
   "metadata": {},
   "outputs": [],
   "source": [
    "import mlx\n",
    "import mlx.core as mx"
   ]
  },
  {
   "cell_type": "code",
   "execution_count": 3,
   "metadata": {},
   "outputs": [],
   "source": [
    "## Set Random Seed\n",
    "mlx.core.random.seed(42)"
   ]
  },
  {
   "cell_type": "code",
   "execution_count": 4,
   "metadata": {},
   "outputs": [
    {
     "name": "stdout",
     "output_type": "stream",
     "text": [
      "Device(gpu, 0)\n",
      "{'__init__': <instancemethod __init__ at 0x1107d2590>, '__doc__': None, '__module__': 'mlx.core', 'type': <property object at 0x110830540>, '__repr__': <instancemethod __repr__ at 0x1107d23e0>, '__eq__': <instancemethod __eq__ at 0x1107d3a60>, '__hash__': None}\n"
     ]
    }
   ],
   "source": [
    "## Device\n",
    "device = mx.default_device()\n",
    "print(device)\n",
    "print(mlx.core.Device.__dict__)\n"
   ]
  },
  {
   "cell_type": "code",
   "execution_count": 5,
   "metadata": {},
   "outputs": [
    {
     "name": "stdout",
     "output_type": "stream",
     "text": [
      "<class 'mlx.core.Dtype'> int8\n",
      "<class 'mlx.core.Dtype'> int16\n",
      "<class 'mlx.core.Dtype'> float16\n",
      "<class 'mlx.core.Dtype'> uint8\n",
      "<class 'mlx.core.Dtype'> uint16\n",
      "<class 'mlx.core.Dtype'> uint32\n"
     ]
    }
   ],
   "source": [
    "for dtype_name in [\"int8\", \"int16\", \"float16\", \"uint8\", \"uint16\", \"uint32\"]:\n",
    "\tdtype = mlx.core.__getattribute__(dtype_name)\n",
    "\tprint(type(dtype), dtype)"
   ]
  },
  {
   "cell_type": "code",
   "execution_count": 6,
   "metadata": {},
   "outputs": [
    {
     "name": "stdout",
     "output_type": "stream",
     "text": [
      "[1, 32] 32\n",
      "[2, 32] 64\n",
      "array([[0, 2, 4, ..., 58, 60, 62],\n",
      "       [0, 2, 4, ..., 58, 60, 62]], dtype=int32)\n"
     ]
    }
   ],
   "source": [
    "## Sample Array\n",
    "arr = mx.expand_dims(mx.arange(0, 32), axis = 0)\n",
    "print(arr.shape, arr.size)\n",
    "\n",
    "## Broadcast\n",
    "arr2 = mx.broadcast_to(arr, (2, arr.shape[-1]))\n",
    "arr2 = arr2*2\n",
    "print(arr2.shape, arr2.size)\n",
    "print(arr2)"
   ]
  },
  {
   "cell_type": "code",
   "execution_count": 29,
   "metadata": {},
   "outputs": [
    {
     "name": "stdout",
     "output_type": "stream",
     "text": [
      "CALCULATING AS INT\n",
      "array([[0, 0, 0, ..., 0, 0, 0]], dtype=int32)\n",
      "array([[0, 0, 0, ..., 0, 0, 0],\n",
      "       [0, 0, 0, ..., 0, 0, 0]], dtype=int32)\n",
      "==============================\n",
      "CALCULATING AS FLOAT\n",
      "array([[0, -0.0625, -0.125, ..., -1.8125, -1.875, -1.9375]], dtype=float32)\n",
      "array([[0, 0.03125, 0.0625, ..., 0.90625, 0.9375, 0.96875],\n",
      "       [0, 0.03125, 0.0625, ..., 0.90625, 0.9375, 0.96875]], dtype=float32)\n",
      "==============================\n"
     ]
    }
   ],
   "source": [
    "## Value and Grad\n",
    "# https://ml-explore.github.io/mlx/build/html/python/_autosummary/mlx.core.value_and_grad.html\n",
    "\n",
    "def sample_fn(inputs, targets):\n",
    "\ta = mx.broadcast_to(inputs, (2, inputs.shape[-1]))\n",
    "\toutputs = (targets - a).square().mean()\n",
    "\treturn outputs\n",
    "\n",
    "## argnums -> indicies of variables to calculate gradient with respect to\n",
    "grad_fn = mx.grad(sample_fn, argnums = [0, 1])\n",
    "\n",
    "## Calculating as int\n",
    "print(\"CALCULATING AS INT\")\n",
    "grad1, grad2 = grad_fn(arr, arr2)\n",
    "print(grad1)\n",
    "print(grad2)\n",
    "print(\"=\"*30)\n",
    "\n",
    "## Calculating as float\n",
    "print(\"CALCULATING AS FLOAT\")\n",
    "grad1, grad2 = grad_fn(arr.astype(mlx.core.float32), arr2.astype(mlx.core.float32))\n",
    "print(grad1)\n",
    "print(grad2)\n",
    "print(\"=\"*30)"
   ]
  }
 ],
 "metadata": {
  "kernelspec": {
   "display_name": "torch2",
   "language": "python",
   "name": "torch2"
  },
  "language_info": {
   "codemirror_mode": {
    "name": "ipython",
    "version": 3
   },
   "file_extension": ".py",
   "mimetype": "text/x-python",
   "name": "python",
   "nbconvert_exporter": "python",
   "pygments_lexer": "ipython3",
   "version": "3.10.8"
  }
 },
 "nbformat": 4,
 "nbformat_minor": 2
}
