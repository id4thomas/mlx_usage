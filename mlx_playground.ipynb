{
 "cells": [
  {
   "cell_type": "code",
   "execution_count": 1,
   "metadata": {},
   "outputs": [
    {
     "name": "stdout",
     "output_type": "stream",
     "text": [
      "Name: mlx\n",
      "Version: 0.0.4.dev20231211+b0cd092\n",
      "Summary: A framework for machine learning on Apple Silicon.\n",
      "Home-page: \n",
      "Author: MLX Contributors\n",
      "Author-email: mlx@group.apple.com\n",
      "License: \n",
      "Location: /Users/id4thomas/miniforge3/envs/mlx/lib/python3.8/site-packages\n",
      "Requires: \n",
      "Required-by: \n"
     ]
    }
   ],
   "source": [
    "!pip show mlx"
   ]
  },
  {
   "cell_type": "code",
   "execution_count": 2,
   "metadata": {},
   "outputs": [],
   "source": [
    "import mlx\n",
    "import mlx.nn as nn\n",
    "import mlx.core as mx"
   ]
  },
  {
   "cell_type": "code",
   "execution_count": 3,
   "metadata": {},
   "outputs": [],
   "source": [
    "## Set Random Seed\n",
    "mlx.core.random.seed(42)"
   ]
  },
  {
   "cell_type": "code",
   "execution_count": 4,
   "metadata": {},
   "outputs": [
    {
     "name": "stdout",
     "output_type": "stream",
     "text": [
      "Device(gpu, 0)\n",
      "{'__init__': <instancemethod __init__ at 0x1082c7b50>, '__doc__': None, '__module__': 'mlx.core', 'type': <property object at 0x1082d3a40>, '__repr__': <instancemethod __repr__ at 0x1082c7c10>, '__eq__': <instancemethod __eq__ at 0x1082c7c70>, '__hash__': None}\n"
     ]
    }
   ],
   "source": [
    "## Device\n",
    "device = mx.default_device()\n",
    "print(device)\n",
    "print(mlx.core.Device.__dict__)\n"
   ]
  },
  {
   "cell_type": "code",
   "execution_count": 5,
   "metadata": {},
   "outputs": [
    {
     "name": "stdout",
     "output_type": "stream",
     "text": [
      "<class 'mlx.core.Dtype'> mlx.core.int8\n",
      "<class 'mlx.core.Dtype'> mlx.core.int16\n",
      "<class 'mlx.core.Dtype'> mlx.core.int32\n",
      "<class 'mlx.core.Dtype'> mlx.core.int64\n",
      "<class 'mlx.core.Dtype'> mlx.core.float16\n",
      "<class 'mlx.core.Dtype'> mlx.core.uint8\n",
      "<class 'mlx.core.Dtype'> mlx.core.uint16\n",
      "<class 'mlx.core.Dtype'> mlx.core.uint32\n",
      "Getting dtypes\n"
     ]
    },
    {
     "data": {
      "text/plain": [
       "mlx.core.float32"
      ]
     },
     "execution_count": 5,
     "metadata": {},
     "output_type": "execute_result"
    }
   ],
   "source": [
    "## dtypes\n",
    "for dtype_name in [\"int8\", \"int16\", \"int32\", \"int64\", \"float16\", \"uint8\", \"uint16\", \"uint32\"]:\n",
    "\tdtype = mlx.core.__getattribute__(dtype_name)\n",
    "\tprint(type(dtype), dtype)\n",
    "\n",
    "print(\"Getting dtypes\")\n",
    "mx.array([1.0, 0.1, 0.2]).dtype"
   ]
  },
  {
   "cell_type": "code",
   "execution_count": 6,
   "metadata": {},
   "outputs": [
    {
     "name": "stdout",
     "output_type": "stream",
     "text": [
      "[1, 32] 32\n",
      "[2, 32] 64\n",
      "array([[0, 2, 4, ..., 58, 60, 62],\n",
      "       [0, 2, 4, ..., 58, 60, 62]], dtype=int32)\n"
     ]
    }
   ],
   "source": [
    "## Sample Array\n",
    "arr = mx.expand_dims(mx.arange(0, 32), axis = 0)\n",
    "print(arr.shape, arr.size)\n",
    "\n",
    "## Broadcast\n",
    "arr2 = mx.broadcast_to(arr, (2, arr.shape[-1]))\n",
    "arr2 = arr2*2\n",
    "print(arr2.shape, arr2.size)\n",
    "print(arr2)"
   ]
  },
  {
   "cell_type": "code",
   "execution_count": 7,
   "metadata": {},
   "outputs": [
    {
     "name": "stdout",
     "output_type": "stream",
     "text": [
      "CALCULATING AS INT\n",
      "array([[0, 0, 0, ..., 0, 0, 0]], dtype=int32)\n",
      "array([[0, 0, 0, ..., 0, 0, 0],\n",
      "       [0, 0, 0, ..., 0, 0, 0]], dtype=int32)\n",
      "==============================\n",
      "CALCULATING AS FLOAT\n",
      "array([[0, -0.0625, -0.125, ..., -1.8125, -1.875, -1.9375]], dtype=float32)\n",
      "array([[0, 0.03125, 0.0625, ..., 0.90625, 0.9375, 0.96875],\n",
      "       [0, 0.03125, 0.0625, ..., 0.90625, 0.9375, 0.96875]], dtype=float32)\n",
      "==============================\n"
     ]
    }
   ],
   "source": [
    "## Value and Grad\n",
    "# https://ml-explore.github.io/mlx/build/html/python/_autosummary/mlx.core.value_and_grad.html\n",
    "\n",
    "def sample_fn(inputs, targets):\n",
    "\ta = mx.broadcast_to(inputs, (2, inputs.shape[-1]))\n",
    "\toutputs = (targets - a).square().mean()\n",
    "\treturn outputs\n",
    "\n",
    "## argnums -> indicies of variables to calculate gradient with respect to\n",
    "grad_fn = mx.grad(sample_fn, argnums = [0, 1])\n",
    "\n",
    "## Calculating as int\n",
    "print(\"CALCULATING AS INT\")\n",
    "grad1, grad2 = grad_fn(arr, arr2)\n",
    "print(grad1)\n",
    "print(grad2)\n",
    "print(\"=\"*30)\n",
    "\n",
    "## Calculating as float\n",
    "print(\"CALCULATING AS FLOAT\")\n",
    "grad1, grad2 = grad_fn(arr.astype(mlx.core.float32), arr2.astype(mlx.core.float32))\n",
    "print(grad1)\n",
    "print(grad2)\n",
    "print(\"=\"*30)"
   ]
  },
  {
   "cell_type": "code",
   "execution_count": 9,
   "metadata": {},
   "outputs": [
    {
     "name": "stdout",
     "output_type": "stream",
     "text": [
      "<function cross_entropy at 0x10815e8b0>\n",
      "<function l1_loss at 0x1082ae9d0>\n",
      "<function mse_loss at 0x1082aeca0>\n",
      "<function nll_loss at 0x1082aedc0>\n",
      "<function kl_div_loss at 0x1082aee50>\n"
     ]
    }
   ],
   "source": [
    "## loss functions\n",
    "# defined in https://github.com/ml-explore/mlx/blob/main/python/mlx/nn/losses.py\n",
    "print(nn.losses.cross_entropy)\n",
    "print(nn.losses.l1_loss)\n",
    "print(nn.losses.l1_loss)\n",
    "print(nn.losses.nll_loss)\n",
    "print(nn.losses.kl_div_loss)"
   ]
  },
  {
   "cell_type": "code",
   "execution_count": 16,
   "metadata": {},
   "outputs": [
    {
     "name": "stdout",
     "output_type": "stream",
     "text": [
      "array(0.773853, dtype=float32)\n"
     ]
    }
   ],
   "source": [
    "# https://zhang-yang.medium.com/how-is-pytorchs-binary-cross-entropy-with-logits-function-related-to-sigmoid-and-d3bd8fb080e7\n",
    "def bce_with_logits(x, y):\n",
    "\tx = mx.sigmoid(x)\n",
    "\treturn -(x.log()*y + (1-y)*(1-x).log()).mean()\n",
    "\n",
    "x = mx.array([[ 2.3611, -0.8813, -0.5006, -0.2178],\n",
    "        [ 0.0419,  0.0763, -1.0457, -1.6692],\n",
    "        [-1.0494,  0.8111,  1.5723,  1.2315],\n",
    "        [ 1.3081,  0.6641,  1.1802, -0.2547],\n",
    "        [ 0.5292,  0.7636,  0.3692, -0.8318],\n",
    "        [ 0.5100,  0.9849, -1.2905,  0.2821],\n",
    "        [ 1.4662,  0.4550,  0.9875,  0.3143],\n",
    "        [-1.2121,  0.1262,  0.0598, -1.6363],\n",
    "        [ 0.3214, -0.8689,  0.0689, -2.5094],\n",
    "        [ 1.1320, -0.6824,  0.1657, -0.0687]])\n",
    "y = mx.array([[0., 1., 0., 0.],\n",
    "        [0., 1., 0., 0.],\n",
    "        [0., 0., 0., 1.],\n",
    "        [1., 0., 0., 0.],\n",
    "        [0., 0., 1., 0.],\n",
    "        [1., 0., 0., 0.],\n",
    "        [0., 0., 1., 0.],\n",
    "        [0., 0., 1., 0.],\n",
    "        [0., 1., 0., 0.],\n",
    "        [0., 0., 1., 0.]])\n",
    "\n",
    "print(bce_with_logits(x,y))\n",
    "# tensor(0.7739)"
   ]
  }
 ],
 "metadata": {
  "kernelspec": {
   "display_name": "mlx",
   "language": "python",
   "name": "mlx"
  },
  "language_info": {
   "codemirror_mode": {
    "name": "ipython",
    "version": 3
   },
   "file_extension": ".py",
   "mimetype": "text/x-python",
   "name": "python",
   "nbconvert_exporter": "python",
   "pygments_lexer": "ipython3",
   "version": "3.8.18"
  }
 },
 "nbformat": 4,
 "nbformat_minor": 2
}
