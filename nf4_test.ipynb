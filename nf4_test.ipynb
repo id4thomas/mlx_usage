{
 "cells": [
  {
   "cell_type": "code",
   "execution_count": 1,
   "metadata": {},
   "outputs": [],
   "source": [
    "## Implementing bitsandbytes nf4 with mlx\n",
    "import mlx\n",
    "import mlx.nn as nn\n",
    "import mlx.core as mx"
   ]
  },
  {
   "cell_type": "code",
   "execution_count": 64,
   "metadata": {},
   "outputs": [],
   "source": [
    "## Functions from https://medium.com/@id2thomas/ml-bitsandbytes-nf4-quantize-dequantize-analysis-1ad91d9912c9\n",
    "def get_absmax(x):\n",
    "\treturn mx.abs(x).max()\n",
    "\n",
    "def get_quantile(x, data_type):\n",
    "\tdt_diffs = [mx.expand_dims(mx.abs(dt-x), 0) for dt in data_type]\n",
    "\tdt_diffs = mx.concatenate(dt_diffs, axis = 0)\n",
    "\treturn mx.argmin(dt_diffs, axis = 0)\n",
    "\n",
    "def simple_quant(x, absmax, data_type):\n",
    "\tc = 1/absmax\n",
    "\tscaled = x*c\n",
    "\tq = get_quantile(scaled, data_type)\n",
    "\treturn q\n",
    "\n",
    "\n",
    "def simple_dequant(x_q, absmax, data_type):\n",
    "\tdq = data_type[x_q]\n",
    "\tc = 1/absmax\n",
    "\treturn dq/c"
   ]
  },
  {
   "cell_type": "code",
   "execution_count": 61,
   "metadata": {},
   "outputs": [
    {
     "data": {
      "text/plain": [
       "array([0, 1, 0], dtype=uint32)"
      ]
     },
     "execution_count": 61,
     "metadata": {},
     "output_type": "execute_result"
    }
   ],
   "source": [
    "sample = mx.array([[1,1,2], [2,0,3]])\n",
    "mx.argmin(sample, axis = 0)"
   ]
  },
  {
   "cell_type": "code",
   "execution_count": 38,
   "metadata": {},
   "outputs": [
    {
     "data": {
      "text/plain": [
       "array([-1, -0.6962, -0.5251, ..., 0.5626, 0.723, 1], dtype=float32)"
      ]
     },
     "execution_count": 38,
     "metadata": {},
     "output_type": "execute_result"
    }
   ],
   "source": [
    "data_type = mx.array([-1.0000, -0.6962, -0.5251, -0.3949, -0.2844, -0.1848, -0.0911,  0.0000, 0.0796,  0.1609,  0.2461,  0.3379,  0.4407,  0.5626,  0.7230,  1.0000])\n",
    "data_type.astype(mx.float32)"
   ]
  },
  {
   "cell_type": "code",
   "execution_count": 45,
   "metadata": {},
   "outputs": [
    {
     "name": "stdout",
     "output_type": "stream",
     "text": [
      "[32, 8]\n"
     ]
    }
   ],
   "source": [
    "weight = mx.random.normal((32,8), mx.float32)\n",
    "print(weight.shape)"
   ]
  },
  {
   "cell_type": "code",
   "execution_count": 69,
   "metadata": {},
   "outputs": [
    {
     "name": "stdout",
     "output_type": "stream",
     "text": [
      "WEIGHT BLOCK array([-1.176, -0.305002, 0.60144, ..., -1.27792, -0.760275, 1.37701], dtype=float32)\n",
      "ABSMAX array(1.73652, dtype=float32)\n",
      "QUANTIZED BLOPCK array([1, 5, 11, ..., 1, 3, 14], dtype=uint32)\n"
     ]
    }
   ],
   "source": [
    "blocksize = 8\n",
    "weight_block = weight[:blocksize, 0]\n",
    "print(\"WEIGHT BLOCK\", weight_block)\n",
    "block_absmax = get_absmax(weight_block)\n",
    "print(\"ABSMAX\", block_absmax)\n",
    "quantized_weight_block = simple_quant(weight_block, block_absmax, data_type)\n",
    "print(\"QUANTIZED BLOPCK\", quantized_weight_block)"
   ]
  },
  {
   "cell_type": "code",
   "execution_count": 71,
   "metadata": {},
   "outputs": [
    {
     "name": "stdout",
     "output_type": "stream",
     "text": [
      "DEQUANTIZED BLOPCK array([-1.20896, -0.320908, 0.586769, ..., -1.20896, -0.685751, 1.2555], dtype=float32)\n"
     ]
    }
   ],
   "source": [
    "## Dequantize\n",
    "dequantized_weight_block = simple_dequant(quantized_weight_block, block_absmax, data_type)\n",
    "print(\"DEQUANTIZED BLOPCK\", dequantized_weight_block)"
   ]
  },
  {
   "cell_type": "code",
   "execution_count": 72,
   "metadata": {},
   "outputs": [
    {
     "data": {
      "text/plain": [
       "array(-0.104853, dtype=float32)"
      ]
     },
     "execution_count": 72,
     "metadata": {},
     "output_type": "execute_result"
    }
   ],
   "source": [
    "mx.sum(dequantized_weight_block-weight_block)"
   ]
  }
 ],
 "metadata": {
  "kernelspec": {
   "display_name": "mlx",
   "language": "python",
   "name": "mlx"
  },
  "language_info": {
   "codemirror_mode": {
    "name": "ipython",
    "version": 3
   },
   "file_extension": ".py",
   "mimetype": "text/x-python",
   "name": "python",
   "nbconvert_exporter": "python",
   "pygments_lexer": "ipython3",
   "version": "3.8.18"
  }
 },
 "nbformat": 4,
 "nbformat_minor": 2
}
